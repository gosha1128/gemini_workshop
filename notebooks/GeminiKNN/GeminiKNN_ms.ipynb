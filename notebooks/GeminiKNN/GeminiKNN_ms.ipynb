{
 "cells": [
  {
   "cell_type": "markdown",
   "metadata": {},
   "source": [
    "# Gemini Workshop: The Hands-On Lab Session\n"
   ]
  },
  {
   "cell_type": "code",
   "execution_count": null,
   "metadata": {},
   "outputs": [],
   "source": [
    "from IPython.display import Image\n",
    "Image(\"asurprise.jpg\") "
   ]
  },
  {
   "cell_type": "markdown",
   "metadata": {},
   "source": [
    "\n",
    "# Load The RF Signals With Known Type\n"
   ]
  },
  {
   "cell_type": "code",
   "execution_count": null,
   "metadata": {},
   "outputs": [],
   "source": [
    "import rf_signals\n",
    "rf_signals.load()"
   ]
  },
  {
   "cell_type": "code",
   "execution_count": null,
   "metadata": {},
   "outputs": [],
   "source": [
    "rf_signals.randisplay()"
   ]
  },
  {
   "cell_type": "markdown",
   "metadata": {},
   "source": [
    "\n",
    "# Load The RF Signals Database With Unknown Type"
   ]
  },
  {
   "cell_type": "code",
   "execution_count": null,
   "metadata": {},
   "outputs": [],
   "source": [
    "import unknown_signals\n",
    "unknown_signals.load()"
   ]
  },
  {
   "cell_type": "code",
   "execution_count": null,
   "metadata": {},
   "outputs": [],
   "source": [
    "unknown_signals.randisplay()"
   ]
  },
  {
   "cell_type": "markdown",
   "metadata": {},
   "source": [
    "\n",
    "# Here is a Picture of the Machine and Gemini Card We Will Be Using!\n",
    "\n",
    "<img src=\"rack_machine.png\">,"
   ]
  },
  {
   "cell_type": "markdown",
   "metadata": {},
   "source": [
    "\n",
    "\n",
    "# Import The Known Signal Database Into Gemini\n",
    "\n"
   ]
  },
  {
   "cell_type": "code",
   "execution_count": null,
   "metadata": {},
   "outputs": [],
   "source": [
    "import swagger_client\n",
    "from swagger_client.models import *\n",
    "from swagger_client.rest import ApiException\n",
    "import sys\n",
    "\n",
    "# Configuration\n",
    "configuration = swagger_client.configuration.Configuration()\n",
    "configuration.verify_ssl = False\n",
    "configuration.host = \"http://localhost:7761/v1.0\"\n",
    "api_config = swagger_client.ApiClient(configuration)\n",
    "\n",
    "# Get handls to various GSI library objects\n",
    "gsi_boards_apis = swagger_client.BoardsApi(api_config)\n",
    "gsi_datasets_apis = swagger_client.DatasetsApi(api_config)\n",
    "gsi_search_apis = swagger_client.SearchApi(api_config)\n",
    "\n",
    "# Set this to None or a valid dataset id \n",
    "dataset_id = \"14f34d04-71a7-11eb-aa48-0242ac110002\"\n",
    "\n",
    "if not dataset_id:\n",
    "    try:\n",
    "\n",
    "        # Import Dataset\n",
    "        print(\"OK, about to import the dataset. This may take a while...\")\n",
    "        response = gsi_datasets_apis.apis_import_dataset(body=ImportDatasetRequest(rf_signals.path, train_ind=True))\n",
    "        dataset_id = response.dataset_id\n",
    "        print(\"Import done!\")\n",
    "\n",
    "    except ApiException as e:\n",
    "        print(e.status)\n",
    "        print(e.body)\n",
    "        print(e.reason)\n",
    "        raise e\n",
    "        \n",
    "else:\n",
    "    print(\"Using a dataset already loaded with dataset_id = \", dataset_id )"
   ]
  },
  {
   "cell_type": "markdown",
   "metadata": {},
   "source": [
    "# Load the Known Signal Vectors Into Gemini"
   ]
  },
  {
   "cell_type": "code",
   "execution_count": null,
   "metadata": {},
   "outputs": [],
   "source": [
    "\n",
    "try:\n",
    "\n",
    "    print(\"Using dataset with dataset_id = \", dataset_id)  \n",
    "\n",
    "    # Allocate Board/s\n",
    "    num_of_boards = 1\n",
    "    print(\"Allocating the %d board(s)...\" % num_of_boards)\n",
    "    response = gsi_boards_apis.apis_allocate(body=AllocateRequest(num_of_boards))\n",
    "    allocation_id = response.allocation_id\n",
    "    print(\"Allocation done!\")\n",
    "\n",
    "    # Load Dataset That Has Already Been Imported\n",
    "    print(\"Loading the dataset into the APU\")\n",
    "    gsi_datasets_apis.apis_load_dataset(body=LoadDatasetRequest(allocation_id, dataset_id, topk=25))\n",
    "    print(\"Load done!\")\n",
    "\n",
    "\n",
    "except ApiException as e:\n",
    "    print(e.status)\n",
    "    print(e.body)\n",
    "    print(e.reason)\n",
    "    raise e\n"
   ]
  },
  {
   "cell_type": "markdown",
   "metadata": {},
   "source": [
    "\n",
    "# Perform the Vector Similarity Search On Gemini\n"
   ]
  },
  {
   "cell_type": "code",
   "execution_count": null,
   "metadata": {},
   "outputs": [],
   "source": [
    "\n",
    "try:\n",
    "\n",
    "    # Search\n",
    "    print(\"Performing the searching...\")\n",
    "    search_api_response = gsi_search_apis.apis_search(body=SearchRequest(allocation_id, dataset_id, \n",
    "                                                            queries_path=unknown_signals.path))\n",
    "    indices = search_api_response.indices\n",
    "    print(\"Search done!\")\n",
    "\n",
    "except ApiException as e:\n",
    "    print(e.status)\n",
    "    print(e.body)\n",
    "    print(e.reason)\n",
    "    raise e\n"
   ]
  },
  {
   "cell_type": "markdown",
   "metadata": {},
   "source": [
    "# Cleanup Unused Resources\n"
   ]
  },
  {
   "cell_type": "code",
   "execution_count": null,
   "metadata": {},
   "outputs": [],
   "source": [
    "\n",
    "# Deallocate Board/s\n",
    "if allocation_id is not None:\n",
    "    gsi_boards_apis.apis_deallocate(body=DeallocateRequest(allocation_id))\n",
    "    allocation_id = None\n",
    "\n",
    "# Unload Dataset\n",
    "# gsi_datasets_apis.apis_unload_dataset(body=UnloadDatasetRequest(allocation_id, dataset_id))\n",
    "    \n",
    "print(\"Done.\")"
   ]
  },
  {
   "cell_type": "markdown",
   "metadata": {},
   "source": [
    "\n",
    "# Perform KNN Inference To Classify the Unknown Signals\n",
    "\n"
   ]
  },
  {
   "cell_type": "code",
   "execution_count": null,
   "metadata": {},
   "outputs": [],
   "source": [
    "import knn\n",
    "predictions = knn.classify( rf_signals, unknown_signals, indices, k=5 )\n",
    "knn.randisplay( predictions, rf_signals, unknown_signals )"
   ]
  },
  {
   "cell_type": "code",
   "execution_count": null,
   "metadata": {},
   "outputs": [],
   "source": []
  }
 ],
 "metadata": {
  "colab": {
   "collapsed_sections": [],
   "name": "faiss_hamming.ipynb",
   "provenance": []
  },
  "kernelspec": {
   "display_name": "Python 3",
   "language": "python",
   "name": "python3"
  },
  "language_info": {
   "codemirror_mode": {
    "name": "ipython",
    "version": 3
   },
   "file_extension": ".py",
   "mimetype": "text/x-python",
   "name": "python",
   "nbconvert_exporter": "python",
   "pygments_lexer": "ipython3",
   "version": "3.8.5"
  }
 },
 "nbformat": 4,
 "nbformat_minor": 4
}
