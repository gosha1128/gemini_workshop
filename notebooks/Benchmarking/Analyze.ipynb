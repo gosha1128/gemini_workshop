{
 "cells": [
  {
   "cell_type": "code",
   "execution_count": null,
   "metadata": {},
   "outputs": [],
   "source": [
    "import pandas\n",
    "\n",
    "df = pandas.read_csv(\"benchmarks.csv\", header=None)"
   ]
  },
  {
   "cell_type": "code",
   "execution_count": null,
   "metadata": {},
   "outputs": [],
   "source": [
    "df.head(30)"
   ]
  },
  {
   "cell_type": "code",
   "execution_count": null,
   "metadata": {},
   "outputs": [],
   "source": [
    "print(df.columns)\n",
    "querysize = df[1]\n",
    "gnl = df[3].tolist()\n",
    "faiss = df[4].tolist()"
   ]
  },
  {
   "cell_type": "code",
   "execution_count": null,
   "metadata": {},
   "outputs": [],
   "source": [
    "print(querysize,gnl, faiss)"
   ]
  },
  {
   "cell_type": "code",
   "execution_count": null,
   "metadata": {},
   "outputs": [],
   "source": [
    "import matplotlib\n",
    "import matplotlib.pyplot as plt\n",
    "import numpy as np\n",
    "\n",
    "fig, axes = plt.subplots(2,1)\n",
    "print(axes)\n",
    "axes[0].scatter( querysize, gnl, marker=\"x\")\n",
    "axes[0].set_ylabel(\"seconds\")\n",
    "axes[0].set_xticks([])\n",
    "axes[1].scatter( querysize, faiss, marker=\"x\")\n",
    "axes[1].set_ylabel(\"seconds\")\n",
    "axes[0].set_title(\"Gemini\")\n",
    "axes[1].set_title(\"FAISS\")\n",
    "axes[1].set_xlabel(\"query size\")\n",
    "#plt.scatter( querysize, faiss, marker=\"o\")\n",
    "#axes[0].set_yscale(\"log\")\n",
    "#plt.xscale(\"log\")\n",
    "\n",
    "plt.subplots_adjust(top=0.78)\n",
    "plt.suptitle(\"Comparing Gemini and FAISS-CPU Hamming Search\\n(db size=10000, fingerprint size=256bits)\")\n",
    "plt.show()\n",
    "fig.savefig(\"compare_gemini_faiss-cpu.jpg\")"
   ]
  }
 ],
 "metadata": {
  "kernelspec": {
   "display_name": "Python 3",
   "language": "python",
   "name": "python3"
  },
  "language_info": {
   "codemirror_mode": {
    "name": "ipython",
    "version": 3
   },
   "file_extension": ".py",
   "mimetype": "text/x-python",
   "name": "python",
   "nbconvert_exporter": "python",
   "pygments_lexer": "ipython3",
   "version": "3.6.9"
  }
 },
 "nbformat": 4,
 "nbformat_minor": 4
}
