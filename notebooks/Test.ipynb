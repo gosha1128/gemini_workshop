{
 "cells": [
  {
   "cell_type": "markdown",
   "metadata": {},
   "source": [
    "# Welcome to the GSI Gemini Workshop Test Page! \n",
    "\n",
    "## If you are seeing this, it means you are ready for our first practice workshop on Dec 5, 11am - 1pm PST.\n",
    "\n",
    "## A few reminders:\n",
    "\n",
    "### - Join us in the training room if you are in Sunnyvale.  Otherwise, join us via Zoom.  Use the following Zoom Meeting URL https://zoom.us/j/227454565\n",
    "\n",
    "### - You will need access to your own computer during the training session.\n",
    "\n",
    "### - You do not need to install anything.  Just make sure you have an updated web browser.  We prefer Google Chrome.\n",
    "\n",
    "### - During the session, you will be remotely connected to a machine where we have simulated the Gemini hardware.  In the next Gemini practice session, we will use real hardware.\n",
    "\n",
    "### - During the session, you will be running and editing code within your browser using the tool you see here.  It's called Jupyter.  I will take you through a quick tutorial during the sesion.  But if you want to get a head start - try to figure out how to run the code below.  If you are successful, you will get a surprise!\n"
   ]
  },
  {
   "cell_type": "code",
   "execution_count": null,
   "metadata": {},
   "outputs": [],
   "source": [
    "from IPython.display import Image\n",
    "Image(\"surprise.jpg\")"
   ]
  }
 ],
 "metadata": {
  "kernelspec": {
   "display_name": "Python 3",
   "language": "python",
   "name": "python3"
  },
  "language_info": {
   "codemirror_mode": {
    "name": "ipython",
    "version": 3
   },
   "file_extension": ".py",
   "mimetype": "text/x-python",
   "name": "python",
   "nbconvert_exporter": "python",
   "pygments_lexer": "ipython3",
   "version": "3.7.4"
  }
 },
 "nbformat": 4,
 "nbformat_minor": 4
}
