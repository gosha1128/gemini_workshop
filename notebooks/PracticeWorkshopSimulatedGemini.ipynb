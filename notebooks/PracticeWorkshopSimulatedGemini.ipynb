{
 "cells": [
  {
   "cell_type": "markdown",
   "metadata": {
    "colab_type": "text",
    "id": "oyhpSB5PASWD"
   },
   "source": [
    "<h1>Hamming Distance k-NN Search with FAISS</h1>"
   ]
  },
  {
   "cell_type": "code",
   "execution_count": 1,
   "metadata": {
    "colab": {},
    "colab_type": "code",
    "id": "JXiiLjkXd8mp"
   },
   "outputs": [
    {
     "name": "stderr",
     "output_type": "stream",
     "text": [
      "Loading faiss.\n"
     ]
    }
   ],
   "source": [
    "# import libraries\n",
    "import os\n",
    "import math\n",
    "import faiss\n",
    "import numpy as np\n",
    "#from keras import backend as K\n",
    "from IPython.display import clear_output\n",
    "#from keras.models import Model, load_model"
   ]
  },
  {
   "cell_type": "markdown",
   "metadata": {
    "colab_type": "text",
    "id": "fH5tBML9A15M"
   },
   "source": [
    "<h1>Bit Vectorize Embeddings</h1>\n",
    "<p>Here we convert the embeddings into bit vectors.<br>\n",
    "We do this by using the following rule:<br>\n",
    "Nodes > .5 = 1<br>\n",
    "Nodes <= .5 = 0\n",
    "</p>"
   ]
  },
  {
   "cell_type": "code",
   "execution_count": 2,
   "metadata": {
    "colab": {},
    "colab_type": "code",
    "id": "69rrWW9ffNUs"
   },
   "outputs": [],
   "source": [
    "# bit vectorize embeddings\n",
    "def bit_vectorize(x, padding):\n",
    "    bit_arr = []\n",
    "    for i in range(len(x)):\n",
    "        b_arr = []\n",
    "        for j in range(len(x[i])):\n",
    "            if x[i][j] > .5:\n",
    "                b_arr.append(1)\n",
    "            else:\n",
    "                b_arr.append(0)\n",
    "        b_arr = b_arr + padding\n",
    "        pb = np.packbits(b_arr)\n",
    "        bit_arr.append(pb)\n",
    "    rarr = np.ascontiguousarray(np.array(bit_arr))\n",
    "    return rarr"
   ]
  },
  {
   "cell_type": "markdown",
   "metadata": {
    "colab_type": "text",
    "id": "p16Hn6WRBTRs"
   },
   "source": [
    "<h1>Set Parameters for Search</h1>"
   ]
  },
  {
   "cell_type": "code",
   "execution_count": 3,
   "metadata": {
    "colab": {},
    "colab_type": "code",
    "id": "D_DSRPdt-NRX"
   },
   "outputs": [],
   "source": [
    "# configurations\n",
    "# number of embeddings to generate (change load to false in next cell)\n",
    "n_test = 100000\n",
    "n_train = 1000000\n",
    "bitsize = 50\n",
    "# set padding\n",
    "p = int((math.ceil(bitsize/8.0))*8 - bitsize)\n",
    "padding = []\n",
    "for i in range(p):\n",
    "    padding.append(0)\n",
    "\n",
    "# similarity search\n",
    "bank_size = 100000\n",
    "q_size = 50000\n",
    "d = bitsize + len(padding)\n",
    "k = 5"
   ]
  },
  {
   "cell_type": "markdown",
   "metadata": {
    "colab_type": "text",
    "id": "ncKNHhiVBiEK"
   },
   "source": [
    "<h1>Option to Load or Generate Bit Vector Data</h1>"
   ]
  },
  {
   "cell_type": "code",
   "execution_count": 4,
   "metadata": {
    "colab": {
     "base_uri": "https://localhost:8080/",
     "height": 221
    },
    "colab_type": "code",
    "id": "rp-1aZEgeBu3",
    "outputId": "8cecde4b-86a9-4774-fd05-82443e9df755"
   },
   "outputs": [
    {
     "name": "stdout",
     "output_type": "stream",
     "text": [
      "Loading Bank ...\n",
      "Bank Load Complete!\n",
      "\n",
      "Loading labels and snr values ...\n",
      "Load complete! \n",
      "\n",
      "Loading Queries ...\n",
      "Queries Load Complete!\n",
      "\n",
      "Loading labels and snr values ...\n",
      "Load complete! \n",
      "\n"
     ]
    }
   ],
   "source": [
    "load_bit_vector = True\n",
    "load_test = True\n",
    "\n",
    "# get bit vectors for database\n",
    "print('Loading Bank ...')\n",
    "if load_bit_vector == True:\n",
    "    path = 'data/bit_vector/faiss_test/bit_vector_train' + str(bitsize) + '.npy'\n",
    "    bit_vectors = np.load(path)\n",
    "\n",
    "# option to generate and save bit vectors\n",
    "else:\n",
    "    # load signal data\n",
    "    x_train = np.load('data/npy_data/signal_dataset/train/signals.npy')\n",
    "    x_train = x_train[:n_train]\n",
    "    x_train = x_train.reshape([-1, 1024, 2])\n",
    "    # load model\n",
    "    model = load_model('weights_best/hamm' + str(bitsize) + '_weights.hdf5')\n",
    "    # get output from embedding layer\n",
    "    embedding_output = Model(inputs=model.input, outputs=model.get_layer('dense_3').output)\n",
    "    embeddings = embedding_output.predict(x_train)\n",
    "    # bit vectorize embedding\n",
    "    bit_vectors = bit_vectorize(embeddings, padding)\n",
    "    np.save('data/bit_vector/faiss_test/bit_vector_train' + str(bitsize) + '.npy', bit_vectors)\n",
    "print('Bank Load Complete!' + '\\n')\n",
    "\n",
    "# load snr and label data for database \n",
    "print('Loading labels and snr values ...')\n",
    "labels = np.load('data/npy_data/signal_dataset/train/labels.npy')\n",
    "labels = labels[:n_train]\n",
    "snrs = np.load('data/npy_data/signal_dataset/train/snrs.npy')\n",
    "snrs = snrs[:n_train]\n",
    "print('Load complete!', '\\n')\n",
    "\n",
    "\n",
    "# get bit vectors for query set\n",
    "print('Loading Queries ...')\n",
    "if load_test == True:\n",
    "    path = 'data/bit_vector/faiss_test/bit_vector_test' + str(bitsize) + '.npy'\n",
    "    bit_vectors_test = np.load(path)\n",
    "\n",
    "# option to generate and save bit vectors\n",
    "else:\n",
    "    # load signal data\n",
    "    x_test = np.load('data/npy_data/signal_dataset/test/signals.npy')\n",
    "    x_test = x_test[:n_test]\n",
    "    x_test = x_test.reshape([-1, 1024, 2])\n",
    "    # load model\n",
    "    model = load_model('weights_best/hamm' + str(bitsize) + '_weights.hdf5')\n",
    "    # get output from embedding layer\n",
    "    embedding_output = Model(inputs=model.input, outputs=model.get_layer('dense_3').output)\n",
    "    embeddings_test = embedding_output.predict(x_test)\n",
    "    # bit vectorize embedding\n",
    "    bit_vectors_test = bit_vectorize(embeddings_test, padding)\n",
    "    np.save('data/bit_vector/faiss_test/bit_vector_test' + str(bitsize) + '.npy', bit_vectors_test)\n",
    "print('Queries Load Complete!' + '\\n')\n",
    "\n",
    "# load snr and label data for query set\n",
    "print('Loading labels and snr values ...')\n",
    "test_labels = np.load('data/npy_data/signal_dataset/test/labels.npy')\n",
    "test_labels = test_labels[:n_test]\n",
    "test_snrs = np.load('data/npy_data/signal_dataset/test/snrs.npy')\n",
    "test_snrs = test_snrs[:n_test]\n",
    "print('Load complete!', '\\n')\n"
   ]
  },
  {
   "cell_type": "markdown",
   "metadata": {
    "colab_type": "text",
    "id": "yWmwkV0mBvD3"
   },
   "source": [
    "<h1>Similarity Search with FAISS<h1>"
   ]
  },
  {
   "cell_type": "code",
   "execution_count": 5,
   "metadata": {
    "colab": {
     "base_uri": "https://localhost:8080/",
     "height": 119
    },
    "colab_type": "code",
    "id": "erdqAMgxsJhu",
    "outputId": "9dad83ea-8316-47e9-91f0-f5fe934ddeeb"
   },
   "outputs": [
    {
     "name": "stdout",
     "output_type": "stream",
     "text": [
      "Size of database:  100000\n",
      "Size of query set:  50000\n",
      "\n",
      "\n",
      "Searching for nearest neighbors ...\n",
      "Search complete!\n"
     ]
    }
   ],
   "source": [
    "# initialize database\n",
    "db = bit_vectors[:bank_size]\n",
    "print('Size of database: ', len(db))\n",
    "# initialize query set\n",
    "queries = bit_vectors_test[:q_size]\n",
    "print('Size of query set: ', len(queries))\n",
    "print('\\n')\n",
    "# Initializing index.\n",
    "index = faiss.IndexBinaryFlat(d)\n",
    "# Adding the database vectors.\n",
    "index.add(db)\n",
    "print('Searching for nearest neighbors ...')\n",
    "D, I = index.search(queries, k)\n",
    "print('Search complete!')"
   ]
  },
  {
   "cell_type": "markdown",
   "metadata": {
    "colab_type": "text",
    "id": "UCAxP146B10s"
   },
   "source": [
    "<h1>Get Accuracy</h1>"
   ]
  },
  {
   "cell_type": "code",
   "execution_count": 6,
   "metadata": {
    "colab": {
     "base_uri": "https://localhost:8080/",
     "height": 459
    },
    "colab_type": "code",
    "id": "pNo1esed-yLW",
    "outputId": "a226f2ea-d8e1-44fc-cbbf-5eb7b3f43f2f"
   },
   "outputs": [
    {
     "name": "stdout",
     "output_type": "stream",
     "text": [
      "Accuracy at snr = -20 and k = 5:  4.6\n",
      "Accuracy at snr = -18 and k = 5:  4.91\n",
      "Accuracy at snr = -16 and k = 5:  4.56\n",
      "Accuracy at snr = -14 and k = 5:  4.81\n",
      "Accuracy at snr = -12 and k = 5:  6.08\n",
      "Accuracy at snr = -10 and k = 5:  9.35\n",
      "Accuracy at snr = -8 and k = 5:  15.16\n",
      "Accuracy at snr = -6 and k = 5:  22.86\n",
      "Accuracy at snr = -4 and k = 5:  29.55\n",
      "Accuracy at snr = -2 and k = 5:  37.5\n",
      "Accuracy at snr = 0 and k = 5:  48.99\n",
      "Accuracy at snr = 2 and k = 5:  55.03\n",
      "Accuracy at snr = 4 and k = 5:  65.59\n",
      "Accuracy at snr = 6 and k = 5:  75.28\n",
      "Accuracy at snr = 8 and k = 5:  82.7\n",
      "Accuracy at snr = 10 and k = 5:  84.75\n",
      "Accuracy at snr = 12 and k = 5:  86.18\n",
      "Accuracy at snr = 14 and k = 5:  84.72\n",
      "Accuracy at snr = 16 and k = 5:  86.65\n",
      "Accuracy at snr = 18 and k = 5:  86.14\n",
      "Accuracy at snr = 20 and k = 5:  85.97\n",
      "Accuracy at snr = 22 and k = 5:  85.91\n",
      "Accuracy at snr = 24 and k = 5:  85.87\n",
      "Accuracy at snr = 26 and k = 5:  85.36\n",
      "Accuracy at snr = 28 and k = 5:  85.92\n",
      "Accuracy at snr = 30 and k = 5:  83.84\n"
     ]
    }
   ],
   "source": [
    "# vote function\n",
    "def vote(lst):\n",
    "    return max(set(lst), key=lst.count)\n",
    "\n",
    "# get accuracy \n",
    "total = dict(zip(range(-20,31), [0]*len(range(-20,31))))\n",
    "total_correct = dict(zip(range(-20,31), [0]*len(range(-20,31))))\n",
    "for i in range(len(I)):\n",
    "    class_idx = []\n",
    "    q_snr = test_snrs[i]\n",
    "    total[q_snr] = total[q_snr] + 1\n",
    "    for j in range(k):\n",
    "        tr_idx = I[i][j]\n",
    "        class_idx.append(str(labels[tr_idx]))\n",
    "    if str(test_labels[i]) == str(vote(class_idx)):\n",
    "        total_correct[q_snr] = total_correct[q_snr] + 1\n",
    "\n",
    "for i in total.keys():\n",
    "    if total[i] != 0:\n",
    "        accuracy = round((total_correct[i]/total[i])*100, 2)\n",
    "        print(\"Accuracy at snr = %d and k = %d: \"%(i,k), accuracy)"
   ]
  },
  {
   "cell_type": "code",
   "execution_count": null,
   "metadata": {
    "colab": {
     "base_uri": "https://localhost:8080/",
     "height": 517
    },
    "colab_type": "code",
    "id": "bvSNWAcb6Y8e",
    "outputId": "497cb101-4c53-44d3-d9b1-a71e4423bfcc"
   },
   "outputs": [],
   "source": [
    "# plot accuracy data\n",
    "x = []\n",
    "y = []\n",
    "keys = list(total_correct.keys())\n",
    "keys = [k for k in keys if total[k] != 0]\n",
    "keys.sort()\n",
    "for i in keys:\n",
    "    x.append(i)\n",
    "    y.append((total_correct[i]/total[i])*100)\n",
    "\n",
    "import matplotlib.pyplot as plt\n",
    "from matplotlib.pyplot import figure\n",
    "\n",
    "#figure(figsize=(15,8))\n",
    "#plt.plot(x, y)\n",
    "#plt.xlabel('Signal to Noise Ratio')\n",
    "#plt.ylabel('Accuracy')\n",
    "#plt.show()"
   ]
  },
  {
   "cell_type": "code",
   "execution_count": 8,
   "metadata": {
    "colab": {
     "base_uri": "https://localhost:8080/",
     "height": 34
    },
    "colab_type": "code",
    "id": "LjjkM7FcWJCZ",
    "outputId": "076a0b50-860b-46c6-8436-735802d2849f"
   },
   "outputs": [],
   "source": [
    "# save accuracies\n",
    "#GW filename = 'data/bit_vector/snr_accuracy/hamm' + str(bitsize) + '_k' + str(k) + '.npy'\n",
    "#filename = 'hamm' + str(bitsize) + '_k' + str(k) + '.npy'\n",
    "#np.save(filename, y)\n",
    "#print('File Saved: ' + filename)"
   ]
  }
 ],
 "metadata": {
  "colab": {
   "collapsed_sections": [],
   "name": "faiss_hamming.ipynb",
   "provenance": []
  },
  "kernelspec": {
   "display_name": "Python 3",
   "language": "python",
   "name": "python3"
  },
  "language_info": {
   "codemirror_mode": {
    "name": "ipython",
    "version": 3
   },
   "file_extension": ".py",
   "mimetype": "text/x-python",
   "name": "python",
   "nbconvert_exporter": "python",
   "pygments_lexer": "ipython3",
   "version": "3.7.4"
  }
 },
 "nbformat": 4,
 "nbformat_minor": 4
}
