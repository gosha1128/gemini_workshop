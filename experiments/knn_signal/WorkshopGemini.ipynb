{
 "cells": [
  {
   "cell_type": "markdown",
   "metadata": {},
   "source": [
    "# Gemini Workshop: The Hands-On Lab Session\n",
    "\n",
    "During This Session:\n",
    "\n",
    "- You will learn a little bit about Jupyter, a web-based programming environment.\n",
    "- You will learn a little Python, a popular programming language.\n",
    "- You will explore an RF signal dataset.\n",
    "- You will learn about hamming fingerprints.\n",
    "- You will use Gemini to search a RF signal dataset where each signal is represented by a hamming fingerprint.\n",
    "- You will use search results to classify unknown RF signals using a technique called KNN\n",
    "\n",
    "To help solidify your understanding, you will be presented with exercises along the way.  OK, Let's Get Started !\n",
    "***"
   ]
  },
  {
   "cell_type": "markdown",
   "metadata": {},
   "source": [
    "# What Is Jupyter?\n",
    "\n",
    "* Jupyter is the web-based programming environment that you are in right now.  \n",
    "* A Jupyter \"notebook\" is composed of a bunch of \"cells\" stacked on top of each other.  \n",
    "* Some cells are for documentation (like this one.) \n",
    "* Some cells are for Python code.\n",
    "* Some cells show the output of code cells.  \n",
    "* This will become more obvious as we proceed through this notebook.\n",
    "***"
   ]
  },
  {
   "cell_type": "markdown",
   "metadata": {},
   "source": [
    "# Exercise 1\n",
    "\n",
    "Now for your first exercise:  \n",
    "* The cell right below this one contains some code.  Click once in the code cell.  This will make the cell active ( notice the blue outline. )  \n",
    "* Locate the \"play\" button in the toolbar at the top of the notebook.  You should see an image appear right below the code.\n",
    "***"
   ]
  },
  {
   "cell_type": "code",
   "execution_count": null,
   "metadata": {},
   "outputs": [],
   "source": [
    "from IPython.display import Image\n",
    "Image(\"asurprise.jpg\") "
   ]
  },
  {
   "cell_type": "markdown",
   "metadata": {},
   "source": [
    "# What Is Python?\n",
    "\n",
    "Congratulations.  If you got the image to appear, you successfully ran python code in this Jupyter notebook!  Python is a popular programming language and we will use it throughout this session.\n",
    "\n",
    "***"
   ]
  },
  {
   "cell_type": "markdown",
   "metadata": {},
   "source": [
    "# Exercise 2\n",
    "\n",
    "* The cell right below this one contains some code.  Run it and you will notice it will print a random number right below it.\n",
    "* Trying running it several times.  Notice it will display a different random number each time.  ( Note that you will need to click on the code cell to reselect it.  That's because Jupyter automatically hops to the next cell after execution. )\n",
    "\n",
    "***"
   ]
  },
  {
   "cell_type": "code",
   "execution_count": null,
   "metadata": {},
   "outputs": [],
   "source": [
    "import random\n",
    "print( random.random() )"
   ]
  },
  {
   "cell_type": "markdown",
   "metadata": {},
   "source": [
    "***\n",
    "# Radio Frequency Signal Classification\n",
    "\n",
    "Alright, let's start to dig into the application we are showcasing in this session - RF Signal Classification.  This is an important application in government and aerospace for signal monitoring and spectrum management.\n",
    "\n",
    "We will be using Gemini to help us classify unknown radio frequency (RF) signals.\n",
    "***"
   ]
  },
  {
   "cell_type": "markdown",
   "metadata": {},
   "source": [
    "# Exercise 3\n",
    "\n",
    "* The cell right below this one contains some code to load an RF signal database.  Run it and you should notice a message indicating success right below the code cell.\n",
    "\n",
    "***"
   ]
  },
  {
   "cell_type": "code",
   "execution_count": null,
   "metadata": {},
   "outputs": [],
   "source": [
    "import rf_signals\n",
    "import importlib\n",
    "importlib.reload(rf_signals)\n",
    "rf_signals.load()"
   ]
  },
  {
   "cell_type": "markdown",
   "metadata": {},
   "source": [
    "***\n",
    "\n",
    "# Exercise 4\n",
    "\n",
    "* The next cell's code will choose at random some of the signals and display them.  Feel free to run it several times.\n",
    "* The database has several types of signals with names like '64APSK', 'AM-SSB-WC', '32PSK', etc., and there are many examples of each in the database.  \n",
    "\n",
    "***"
   ]
  },
  {
   "cell_type": "code",
   "execution_count": null,
   "metadata": {},
   "outputs": [],
   "source": [
    "rf_signals.randisplay()"
   ]
  },
  {
   "cell_type": "markdown",
   "metadata": {},
   "source": [
    "***\n",
    "# Exercise 5\n",
    "\n",
    "* Now let's load a different dataset of signals.  In this database, the signals haven't yet been classified.  \n",
    "* Go ahead and run the next code cell to load the database of unknown signals.\n",
    "\n",
    "***"
   ]
  },
  {
   "cell_type": "code",
   "execution_count": null,
   "metadata": {},
   "outputs": [],
   "source": [
    "import unknown_signals\n",
    "unknown_signals.load()"
   ]
  },
  {
   "cell_type": "markdown",
   "metadata": {},
   "source": [
    "***\n",
    "\n",
    "# Exercise 6\n",
    "\n",
    "* The next cell's code will choose at random some of the signals and display them.  Feel free to run it several times.\n",
    "* Remember, the signals in this database have not been classified yet!  That's why you see a question mark in the subplot titles.\n",
    "\n",
    "***"
   ]
  },
  {
   "cell_type": "code",
   "execution_count": null,
   "metadata": {},
   "outputs": [],
   "source": [
    "unknown_signals.randisplay()"
   ]
  },
  {
   "cell_type": "markdown",
   "metadata": {},
   "source": [
    "***\n",
    "\n",
    "# Exercise 7\n",
    "\n",
    "Now you will use Gemini similarity search in order to help classify the unknown signals.  \n",
    "\n",
    "First, let's initialize the GNL library.  Go ahead and run the next code cell.\n",
    "\n",
    "***"
   ]
  },
  {
   "cell_type": "code",
   "execution_count": null,
   "metadata": {},
   "outputs": [],
   "source": [
    "import gnl_bindings\n",
    "import gnl_bindings_utils as gbu\n",
    "\n",
    "def setUpGNL():\n",
    "    s = gnl_bindings.gdl_init()\n",
    "    if s: raise Exception('gnl_bindings.gdl_init failed with {}'.format(s))\n",
    "\n",
    "    s, gdl_ctx = gnl_bindings.gdl_context_find_and_alloc(apuc_count=4, mem_size=0x10000000)  # need to change num of apuc\n",
    "    if s: raise Exception('gnl_bindings.gdl_context_find_and_alloc failed with {}'.format(s))\n",
    "\n",
    "    s = gnl_bindings.init()\n",
    "    if s: raise Exception('gnl_bindings.init failed with {}'.format(s))\n",
    "\n",
    "    s, base_ctx = gnl_bindings.create_base_context(gdl_ctx)\n",
    "    if s: raise Exception('gnl_bindings.create_base_context failed with {}'.format(s))\n",
    "    \n",
    "    s, gnl_ctxs = gnl_bindings.create_contexts(base_ctx, [4])  # need to change num of apuc\n",
    "    if s: raise Exception('gnl_bindings.create_contexts failed with {}'.format(s))\n",
    "    \n",
    "    ctx = gnl_ctxs[0]\n",
    "    s = gnl_bindings.pm_ctl(ctx, True)\n",
    "    if s: raise Exception('gnl_bindings.pm_ctl failed with {}'.format(s))\n",
    "    return gdl_ctx, base_ctx, ctx\n",
    "\n",
    "print(\"Setting up GNL...\")\n",
    "gdl_ctx, base_ctx, ctx = setUpGNL()\n",
    "print(\"Done.\")"
   ]
  },
  {
   "cell_type": "markdown",
   "metadata": {},
   "source": [
    "***\n",
    "\n",
    "# Exercise 8\n",
    "\n",
    "Now, let's perform the hamming search.  Go ahead and run the next code cell.\n",
    "\n",
    "***"
   ]
  },
  {
   "cell_type": "code",
   "execution_count": null,
   "metadata": {},
   "outputs": [],
   "source": [
    "import numpy as np\n",
    "import time, datetime\n",
    "\n",
    "# Get the known database fingerprints and transpose for the GNL\n",
    "np_records = np.copy( rf_signals.get_fingerprints() )\n",
    "np_records = np.transpose(np_records, (1, 0))\n",
    "\n",
    "# Use the unknown database fingerprints as the query\n",
    "np_queries = unknown_signals.get_fingerprints()\n",
    "\n",
    "# Define the number of neighbors you want\n",
    "k = 5\n",
    "\n",
    "# Define the shape of the output arrays according to the num of queries and k\n",
    "out_shape = (np_queries.shape[0], k)\n",
    "#print(\"outshape\", out_shape)\n",
    "\n",
    "# Define the output arrays\n",
    "np_out_vals = np.empty(out_shape, np.uint16)\n",
    "np_out_indices = np.empty(out_shape, np.uint32)\n",
    "\n",
    "#\n",
    "# Convert the numpy arrays to gnl\n",
    "#\n",
    "\n",
    "s, gnl_out_vals = gbu.create_gnl_array_from_numpy(base_ctx, ctx, np_out_vals, gbu.gnl_type.GNL_U16, False)\n",
    "if s: raise Exception('gbu failed with {}'.format(s))\n",
    "        \n",
    "s, gnl_out_indices = gbu.create_gnl_array_from_numpy(base_ctx, ctx, np_out_indices, gbu.gnl_type.GNL_U32, False)\n",
    "if s: raise Exception('gbu failed with {}'.format(s))\n",
    "\n",
    "s, gnl_data = gbu.create_gnl_array_from_numpy(base_ctx, ctx, np_records, gbu.gnl_type.GNL_U16)\n",
    "if s: raise Exception('gbu failed with {}'.format(s))\n",
    "\n",
    "s, gnl_queries = gbu.create_gnl_array_from_numpy(base_ctx, ctx, np_queries, gbu.gnl_type.GNL_U16)\n",
    "if s: raise Exception('gbu failed with {}'.format(s))\n",
    "\n",
    "# Perform hamming search\n",
    "start = time.time()\n",
    "print(datetime.datetime.now(),\"Starting hamming search in Gemini.\")\n",
    "s = gnl_bindings.knn_hamming(ctx, gnl_out_vals, gnl_out_indices, gnl_queries, gnl_data, k)\n",
    "if s: raise Exception('gbu failed with {}'.format(s))\n",
    "end = time.time()\n",
    "GNLSearchTime = end - start\n",
    "print(datetime.datetime.now(),\"Search duration was\", GNLSearchTime, \"seconds.\")\n",
    "\n",
    "# Convert the output from gnl arrays to numpy\n",
    "s, np_out_vals = gbu.create_numpy_array_from_gnl(ctx, gnl_out_vals)\n",
    "if s: raise Exception('gbu failed with {}'.format(s))\n",
    "    \n",
    "s, np_out_indices = gbu.create_numpy_array_from_gnl(ctx, gnl_out_indices)\n",
    "if s: raise Exception('gbu failed with {}'.format(s))\n",
    "        \n",
    "# Clean up (delete gnl arrays)\n",
    "gnl_bindings.destroy_array(gnl_out_vals)\n",
    "gnl_bindings.destroy_array(gnl_out_indices)\n",
    "gnl_bindings.destroy_array(gnl_queries)\n",
    "gnl_bindings.destroy_array(gnl_data)\n",
    "\n",
    "print(\"The shape of the search results is \", np_out_indices.shape)"
   ]
  },
  {
   "cell_type": "markdown",
   "metadata": {},
   "source": [
    "***\n",
    "\n",
    "# Exercise 9\n",
    "\n",
    "Now, before we use the results for signal classification.  Let's go ahead and release the GNL library.\n",
    "\n",
    "Go ahead and run the next cell.\n",
    "\n",
    "***"
   ]
  },
  {
   "cell_type": "code",
   "execution_count": null,
   "metadata": {},
   "outputs": [],
   "source": [
    "def tearDownGNL(gdl_ctx, base_ctx, ctx):\n",
    "    s = gnl_bindings.pm_ctl(ctx, False)\n",
    "    if s: raise Exception('gnl_bindings.pm_ctl failed with {}'.format(s))\n",
    "    s = gnl_bindings.destroy_contexts(base_ctx)\n",
    "    if s: raise Exception('gnl_bindings.destroy_contexts failed with {}'.format(s))\n",
    "    s = gnl_bindings.destroy_base_context(base_ctx)\n",
    "    if s: raise Exception('gnl_bindings.destroy_base_context failed with {}'.format(s))\n",
    "    gnl_bindings.exit(False)\n",
    "    s = gnl_bindings.gdl_context_free(gdl_ctx)\n",
    "    if s: raise Exception('gnl_bindings.gdl_context_free failed with {}'.format(s))\n",
    "    s = gnl_bindings.gdl_exit()\n",
    "    if s: raise Exception('gnl_bindings.gdl_exit failed with {}'.format(s))\n",
    "        \n",
    "tearDownGNL( gdl_ctx, base_ctx, ctx )\n",
    "print(\"Done.\")"
   ]
  },
  {
   "cell_type": "markdown",
   "metadata": {},
   "source": [
    "***\n",
    "\n",
    "# Exercise 10\n",
    "\n",
    "Now, lets use those similarity search predictions.  Run the code below.  \n",
    "\n",
    "It will randomly choose three of the unknown signals (top row).  Directly below each unknown are the top 5 matches from similarity search.  \n",
    "\n",
    "We can now use a majority vote of the top-K matches (K=5 in this case) in order to classify the unknown signal.  This is called KNN classification.\n",
    "\n",
    "***"
   ]
  },
  {
   "cell_type": "code",
   "execution_count": null,
   "metadata": {},
   "outputs": [],
   "source": [
    "import knn\n",
    "predictions = knn.classify( rf_signals, unknown_signals, np_out_indices )\n",
    "knn.randisplay( predictions, rf_signals, unknown_signals )"
   ]
  },
  {
   "cell_type": "code",
   "execution_count": null,
   "metadata": {},
   "outputs": [],
   "source": []
  }
 ],
 "metadata": {
  "colab": {
   "collapsed_sections": [],
   "name": "faiss_hamming.ipynb",
   "provenance": []
  },
  "kernelspec": {
   "display_name": "Python 3",
   "language": "python",
   "name": "python3"
  },
  "language_info": {
   "codemirror_mode": {
    "name": "ipython",
    "version": 3
   },
   "file_extension": ".py",
   "mimetype": "text/x-python",
   "name": "python",
   "nbconvert_exporter": "python",
   "pygments_lexer": "ipython3",
   "version": "3.6.8"
  }
 },
 "nbformat": 4,
 "nbformat_minor": 4
}
